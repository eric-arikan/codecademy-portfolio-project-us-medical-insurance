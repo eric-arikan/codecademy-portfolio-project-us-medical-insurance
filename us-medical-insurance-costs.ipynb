{
 "cells": [
  {
   "cell_type": "markdown",
   "metadata": {},
   "source": [
    "# U.S. Medical Insurance Costs"
   ]
  },
  {
   "cell_type": "markdown",
   "metadata": {},
   "source": [
    "Import the dataset. "
   ]
  },
  {
   "cell_type": "code",
   "execution_count": 2,
   "metadata": {},
   "outputs": [],
   "source": [
    "import csv\n",
    "\n",
    "with open('/Users/ericarikan/Coding_Projects/python-portfolio-project-starter-files/insurance.csv', newline='') as insurance_file:\n",
    "    insurance_reader = csv.DictReader(insurance_file)\n",
    "    "
   ]
  },
  {
   "cell_type": "markdown",
   "metadata": {},
   "source": [
    "Create lists for each attribute in the dataset, and populate them with the data from the file. "
   ]
  },
  {
   "cell_type": "code",
   "execution_count": 3,
   "metadata": {},
   "outputs": [],
   "source": [
    "\n",
    "age = []\n",
    "sex = []\n",
    "bmi = []\n",
    "children = []\n",
    "smoker = []\n",
    "region = []\n",
    "charges = []"
   ]
  },
  {
   "cell_type": "markdown",
   "metadata": {},
   "source": [
    "Populate the lists. "
   ]
  },
  {
   "cell_type": "code",
   "execution_count": 4,
   "metadata": {},
   "outputs": [],
   "source": [
    "with open('/Users/ericarikan/Coding_Projects/python-portfolio-project-starter-files/insurance.csv', newline='') as insurance_file:\n",
    "    insurance_reader = csv.DictReader(insurance_file, delimiter=',')\n",
    "    for row in insurance_reader:\n",
    "        age.append(row['age'])\n",
    "        sex.append(row['sex'])\n",
    "        bmi.append(row['bmi'])\n",
    "        children.append(row['children'])\n",
    "        smoker.append(row['smoker'])\n",
    "        region.append(row['region'])\n",
    "        charges.append(row['charges'])"
   ]
  },
  {
   "cell_type": "markdown",
   "metadata": {},
   "source": [
    "The lists for `age`, `bmi`, `children`, and `charges` contain string values. They need to be converted to int or float types. Create functions to convert the list values, and use the functions to update the lists. "
   ]
  },
  {
   "cell_type": "code",
   "execution_count": 5,
   "metadata": {},
   "outputs": [],
   "source": [
    "def convert_to_int(list):\n",
    "    updated_list = []\n",
    "    for entry in list:\n",
    "        new_entry = int(entry)\n",
    "        updated_list.append(new_entry)\n",
    "    return updated_list\n",
    "\n",
    "def convert_to_float(list):\n",
    "    updated_list = []\n",
    "    for entry in list:\n",
    "        new_entry = float(entry)\n",
    "        updated_list.append(new_entry)\n",
    "    return updated_list\n",
    "\n",
    "# Convert age list to int\n",
    "age_int = convert_to_int(age)\n",
    "\n",
    "# Convert bmi list to float\n",
    "bmi_float = convert_to_float(bmi)\n",
    "\n",
    "# Convert children to int\n",
    "children_int = convert_to_int(children)\n",
    "\n",
    "# Convert charges to float\n",
    "charges_float = convert_to_float(charges)"
   ]
  },
  {
   "cell_type": "markdown",
   "metadata": {},
   "source": [
    "The lists are now populated. Create a dictionary that includes all values, with a unique ID for every entry. "
   ]
  },
  {
   "cell_type": "code",
   "execution_count": 28,
   "metadata": {},
   "outputs": [],
   "source": [
    "def populate_dict(list1, list2, list3, list4, list5, list6, list7):\n",
    "    insurance_records = {}\n",
    "    i = 0\n",
    "    id = 1\n",
    "    length = len(age)\n",
    "    while i < length:\n",
    "        id_string = str(str(id).zfill(4))\n",
    "        insurance_records[id_string] = {\"Age\": list1[i], \"Sex\": list2[i], \"BMI\": list3[i], \"Children\": list4[i], \"Smoker\": list5[i], \"Region\": list6[i], \"Charges\": list7[i]}\n",
    "        id += 1\n",
    "        i += 1\n",
    "    return insurance_records\n",
    "\n",
    "insurance_records = populate_dict(age_int, sex, bmi_float, children_int, smoker, region, charges_float)\n"
   ]
  },
  {
   "cell_type": "markdown",
   "metadata": {},
   "source": [
    "We are interested in finding out more about the dataset we're working with. First, let's check if the data is skewed in any way. To do this, we want to calculate the male vs female distribution, the age distribution, and region distribution. \n",
    "\n",
    "1. Calculate the average age and standard deviation of the dataset. \n",
    "2. Find out whether the majority of entries is 'male' or 'female'.\n",
    "3. Find out how even the 'region' distribution is within the dataset. "
   ]
  },
  {
   "cell_type": "code",
   "execution_count": 7,
   "metadata": {},
   "outputs": [
    {
     "name": "stdout",
     "output_type": "stream",
     "text": [
      "The youngest person in the dataset is 18 years old. The oldest person in the dataset is 64 years old. The age range is 46.\n",
      "The average age within the data set is 39.21 years. The median age is 39.0.\n",
      "The standard deviation within the dataset is 14.05.\n"
     ]
    }
   ],
   "source": [
    "import statistics\n",
    "\n",
    "# Functions to calculate age average and std deviation\n",
    "def get_average(list):\n",
    "    age_sum = 0\n",
    "    for age in list:\n",
    "        age_sum += age\n",
    "    avg_age = round(age_sum / len(list), 2)\n",
    "    median_age = round(statistics.median(list), 2)\n",
    "    return \"The average age within the data set is \" + str(avg_age) + \" years. The median age is \" + str(median_age) + \".\"\n",
    "\n",
    "age_average = get_average(age_int)\n",
    "\n",
    "def get_stdev(list):\n",
    "    stdev = round(statistics.stdev(list), 2)\n",
    "    return \"The standard deviation within the dataset is \" + str(stdev) + \".\"\n",
    "\n",
    "age_stdev = get_stdev(age_int)\n",
    "\n",
    "# max/min age and age range \n",
    "min_age = min(age_int)\n",
    "max_age = max(age_int)\n",
    "age_range = max_age - min_age\n",
    "\n",
    "print(\"The youngest person in the dataset is \" + str(min_age) + \" years old. The oldest person in the dataset is \" + str(max_age) + \" years old. The age range is \" + str(age_range) + \".\")\n",
    "print(age_average)\n",
    "print(age_stdev)"
   ]
  },
  {
   "cell_type": "markdown",
   "metadata": {},
   "source": [
    "Based on the age analysis, the dataset appears to be balanced. Let's take a look at male vs female entries. "
   ]
  },
  {
   "cell_type": "code",
   "execution_count": 8,
   "metadata": {},
   "outputs": [
    {
     "name": "stdout",
     "output_type": "stream",
     "text": [
      "The dataset contains 49.48 percent female and 50.52 percent male individuals.\n"
     ]
    }
   ],
   "source": [
    "# Function to count male and female individuals\n",
    "def counter(list, string):\n",
    "    count = 0\n",
    "    for item in list:\n",
    "        if item == string:\n",
    "            count += 1\n",
    "    return count\n",
    "\n",
    "num_women = counter(sex, \"female\")\n",
    "num_men = counter(sex, \"male\")\n",
    "percent_women = round(num_women / len(sex) * 100, 2)\n",
    "percent_men = round(num_men / len(sex) * 100, 2)\n",
    "\n",
    "print(\"The dataset contains \" + str(percent_women) + \" percent female and \" + str(percent_men) + \" percent male individuals.\")"
   ]
  },
  {
   "cell_type": "markdown",
   "metadata": {},
   "source": [
    "The dataset is ever so slightly skewed male, but still balanced overall. "
   ]
  },
  {
   "cell_type": "code",
   "execution_count": 9,
   "metadata": {},
   "outputs": [
    {
     "name": "stdout",
     "output_type": "stream",
     "text": [
      "['southwest', 'southeast', 'northwest', 'northeast']\n"
     ]
    }
   ],
   "source": [
    "# Function to determine region balance\n",
    "def find_unique_values(list):\n",
    "    unique_values = []\n",
    "    for item in list:\n",
    "        if item not in unique_values:\n",
    "            unique_values.append(item)\n",
    "        else:\n",
    "            continue\n",
    "    return unique_values\n",
    "\n",
    "unique_regions = find_unique_values(region)\n",
    "print(unique_regions) "
   ]
  },
  {
   "cell_type": "code",
   "execution_count": 10,
   "metadata": {},
   "outputs": [
    {
     "data": {
      "text/plain": [
       "'Southwest: 325, Southeast: 364, Northwest: 325, Northeast: 324'"
      ]
     },
     "execution_count": 10,
     "metadata": {},
     "output_type": "execute_result"
    }
   ],
   "source": [
    "# Function to count region distribution\n",
    "def region_distribution(list):\n",
    "    southwest = 0\n",
    "    southeast = 0\n",
    "    northwest = 0\n",
    "    northeast = 0\n",
    "    for item in list:\n",
    "        if item == \"southwest\":\n",
    "            southwest += 1\n",
    "        elif item == \"southeast\":\n",
    "            southeast += 1\n",
    "        elif item == \"northwest\":\n",
    "            northwest += 1\n",
    "        elif item == \"northeast\":\n",
    "            northeast += 1\n",
    "    return \"Southwest: \" + str(southwest) + \", Southeast: \" + str(southeast) + \", Northwest: \" + str(northwest) + \", Northeast: \" + str(northeast)\n",
    "\n",
    "region_distribution(region)\n"
   ]
  },
  {
   "cell_type": "markdown",
   "metadata": {},
   "source": [
    "There are 40 more entries from the region \"Southeast\" than from the other regions. Otherwise, the region distribution is even. "
   ]
  },
  {
   "cell_type": "markdown",
   "metadata": {},
   "source": [
    "Next, let's find out what the average charges are for the entire dataset. We also want to look at the minimum and maximum charges, the median, and the standard deviation, to find out if the data is skewed in any direction. "
   ]
  },
  {
   "cell_type": "code",
   "execution_count": 11,
   "metadata": {},
   "outputs": [
    {
     "name": "stdout",
     "output_type": "stream",
     "text": [
      "The average charges are 13270.42 dollars.\n",
      "The median charges are 9382.033 dollars.\n",
      "The standard deviation within the dataset is 12110.01.\n"
     ]
    }
   ],
   "source": [
    "def calculate_average(list):\n",
    "    average_charges = round(sum(list) / len(list), 2)\n",
    "    return average_charges\n",
    "\n",
    "average_charges = calculate_average(charges_float)\n",
    "median_charges = statistics.median(charges_float)\n",
    "stddev_charges = get_stdev(charges_float)\n",
    "print(\"The average charges are \" + str(average_charges) + \" dollars.\")\n",
    "print(\"The median charges are \" + str(median_charges) + \" dollars.\")\n",
    "print(stddev_charges)"
   ]
  },
  {
   "cell_type": "code",
   "execution_count": 12,
   "metadata": {},
   "outputs": [
    {
     "name": "stdout",
     "output_type": "stream",
     "text": [
      "The lowest charges in the data set are 1121.87 dollars. The highest charges are 63770.43 dollars. The lowest charge is 12148.55 dollars lower than the average, while the highest charges are 50500.01 dollars higher than the average.\n"
     ]
    }
   ],
   "source": [
    "min_charges = round(min(charges_float), 2)\n",
    "max_charges = round(max(charges_float), 2)\n",
    "min_diff_avg = round(average_charges - min_charges, 2)\n",
    "max_diff_avg = round(max_charges - average_charges, 2)\n",
    "\n",
    "print(\"The lowest charges in the data set are \" + str(min_charges) + \" dollars. The highest charges are \" + str(max_charges) + \" dollars. The lowest charge is \" + str(min_diff_avg) + \" dollars lower than the average, while the highest charges are \" + str(max_diff_avg) + \" dollars higher than the average.\")"
   ]
  },
  {
   "cell_type": "markdown",
   "metadata": {},
   "source": [
    "Based on the distribution of charges, we can determine that the dataset contains some extreme outliers. This explains the high standard deviation, as well as the average that is positively skewed compared to the median. Let's find out where these extremes may be coming from by analyzing some other aspects. \n",
    "\n",
    "First, let's find out the average charges for smokers versus non-smokers. "
   ]
  },
  {
   "cell_type": "code",
   "execution_count": 13,
   "metadata": {},
   "outputs": [
    {
     "data": {
      "text/plain": [
       "'The average charge for smokers is 32050.23 dollars, and the average charge for non-smokers is 8434.27 dollars.'"
      ]
     },
     "execution_count": 13,
     "metadata": {},
     "output_type": "execute_result"
    }
   ],
   "source": [
    "def group_by_smoker_status(smoker_status, charges):\n",
    "    sum_smokers = 0.0\n",
    "    num_smokers = 0\n",
    "    sum_non_smokers = 0.0\n",
    "    num_non_smokers = 0\n",
    "    i = 0\n",
    "    length = len(charges)\n",
    "    while i < length:\n",
    "        if smoker_status[i] == \"yes\":\n",
    "            sum_smokers += float(charges[i])\n",
    "            num_smokers += 1\n",
    "            i += 1\n",
    "        else:\n",
    "            sum_non_smokers += float(charges[i])\n",
    "            num_non_smokers += 1\n",
    "            i += 1\n",
    "    avg_charges_smokers = round(sum_smokers / num_smokers, 2)\n",
    "    avg_charges_non_smokers = round(sum_non_smokers / num_non_smokers, 2)\n",
    "    return \"The average charge for smokers is \" + str(avg_charges_smokers) + \" dollars, and the average charge for non-smokers is \" + str(avg_charges_non_smokers) + \" dollars.\"\n",
    "\n",
    "group_by_smoker_status(smoker, charges)"
   ]
  },
  {
   "cell_type": "code",
   "execution_count": 14,
   "metadata": {},
   "outputs": [],
   "source": [
    "avg_charges_smokers = 32050.23\n",
    "avg_charges_non_smokers = 8434.27"
   ]
  },
  {
   "cell_type": "markdown",
   "metadata": {},
   "source": [
    "We can see that the average charges for smokers are significantly higher than for non-smokers. If we remove the smokers from the dataset, will the average charges come closer to the median, and can we reduce the standard deviation? "
   ]
  },
  {
   "cell_type": "code",
   "execution_count": 15,
   "metadata": {},
   "outputs": [
    {
     "name": "stdout",
     "output_type": "stream",
     "text": [
      "The average charges for non-smokers is 8434.27 dollars.\n",
      "The average charges for non-smokers are very close to the median charges of 9382.033 dollars. The median within only non-smokers is 7345.4 dollars. The standard deviation among non-smokers is 5993.78.\n"
     ]
    }
   ],
   "source": [
    "# Function to remove smokers from dataset\n",
    "def remove_smokers(smoker_status, charges):\n",
    "    only_non_smokers = []\n",
    "    i = 0\n",
    "    length = len(charges)\n",
    "    while i < length:\n",
    "        if smoker_status[i] == \"no\":\n",
    "            only_non_smokers.append(round(float(charges[i]), 2))\n",
    "            i += 1\n",
    "        else:\n",
    "            i += 1\n",
    "    return only_non_smokers\n",
    "\n",
    "charges_non_smokers = remove_smokers(smoker, charges)\n",
    "\n",
    "average_charges_non_smokers = calculate_average(charges_non_smokers)\n",
    "median_non_smokers = round(statistics.median(charges_non_smokers), 2)\n",
    "stddev_non_smokers = round(statistics.stdev(charges_non_smokers), 2)\n",
    "print(\"The average charges for non-smokers is \" + str(average_charges_non_smokers) + \" dollars.\")\n",
    "print(\"The average charges for non-smokers are very close to the median charges of \" + str(median_charges) + \" dollars. The median within only non-smokers is \" + str(median_non_smokers) + \" dollars. The standard deviation among non-smokers is \" + str(stddev_non_smokers) + \".\")\n"
   ]
  },
  {
   "cell_type": "markdown",
   "metadata": {},
   "source": [
    "We can see that the data in the data set is strongly skewed by smokers, as their charges are much higher on average than the charges for non-smokers. However, there are other factors such as BMI and whether or not an individual has children, which also influence the charges. We will look at those factors later on. "
   ]
  },
  {
   "cell_type": "markdown",
   "metadata": {},
   "source": [
    "Next, we'll want to take a look at the average charges for male and female individuals, and how they compare to the median and mean charges. "
   ]
  },
  {
   "cell_type": "code",
   "execution_count": 16,
   "metadata": {},
   "outputs": [
    {
     "name": "stdout",
     "output_type": "stream",
     "text": [
      "The average charges for male individuals is 13956.75 dollars. This is 686.33 higher than the average charges of 13270.42 dollars.\n",
      "The average charges for female individuals is 12569.58 dollars. This is 700.84 lower than the average charges of 13270.42 dollars.\n"
     ]
    }
   ],
   "source": [
    "# Functions to separate male and female charges\n",
    "def separate_by_sex(sex, charges):\n",
    "    male_charges = []\n",
    "    female_charges = []\n",
    "    i = 0\n",
    "    length = len(charges)\n",
    "    while i < length:\n",
    "        if sex[i] == \"female\":\n",
    "            female_charges.append(float(charges[i]))\n",
    "        else:\n",
    "            male_charges.append(float(charges[i]))\n",
    "        i += 1\n",
    "    return male_charges, female_charges\n",
    "\n",
    "male_charges_list, female_charges_list = separate_by_sex(sex, charges_float)\n",
    "\n",
    "average_charges_male = round(sum(male_charges_list) / len(male_charges_list), 2)\n",
    "average_charges_female = round(sum(female_charges_list) / len(female_charges_list), 2)\n",
    "average_charges_male_diff = round(average_charges_male - average_charges, 2)\n",
    "average_charges_female_diff = round(average_charges - average_charges_female, 2)\n",
    "print(\"The average charges for male individuals is \" + str(average_charges_male) + \" dollars. This is \" + str(average_charges_male_diff) + \" higher than the average charges of \" + str(average_charges) + \" dollars.\")\n",
    "print(\"The average charges for female individuals is \" + str(average_charges_female) + \" dollars. This is \" + str(average_charges_female_diff) + \" lower than the average charges of \" + str(average_charges) + \" dollars.\")"
   ]
  },
  {
   "cell_type": "markdown",
   "metadata": {},
   "source": [
    "The results show that charges for males skew higher than average, while charges for females skew lower than average. However, there isn't as much of a skew as compared to the smokers vs non-smokers. \n",
    "\n",
    "Next, we'll want to look at the impact children have on the average charges. "
   ]
  },
  {
   "cell_type": "code",
   "execution_count": 17,
   "metadata": {},
   "outputs": [
    {
     "name": "stdout",
     "output_type": "stream",
     "text": [
      "The average charges for people with children is 13949.94 dollars.\n",
      "The average charges for people without children is 12365.98 dollars.\n"
     ]
    }
   ],
   "source": [
    "# Function to separate childless and individuals with children\n",
    "def separate_by_children(children, charges):\n",
    "    with_child = []\n",
    "    without_child = []\n",
    "    i = 0\n",
    "    length = len(charges)\n",
    "    while i < length:\n",
    "        if children[i] == \"0\":\n",
    "            without_child.append(float(charges[i]))\n",
    "        else:\n",
    "            with_child.append(float(charges[i]))\n",
    "        i += 1\n",
    "    return with_child, without_child\n",
    "\n",
    "with_children_list, without_children_list = separate_by_children(children, charges_float)\n",
    "\n",
    "average_charges_with_children = round(sum(with_children_list) / len(with_children_list), 2)\n",
    "average_charges_without_children = round(sum(without_children_list) / len(without_children_list), 2)\n",
    "print(\"The average charges for people with children is \" + str(average_charges_with_children) + \" dollars.\")\n",
    "print(\"The average charges for people without children is \" + str(average_charges_without_children) + \" dollars.\")\n"
   ]
  },
  {
   "cell_type": "markdown",
   "metadata": {},
   "source": [
    "The impact of having children on an individuals charges are not as pronounced as expected. In fact, they are similar to the difference between male and female individuals within the dataset. \n",
    "\n",
    "Next, we'll want to split the dataset into age groups and calculate the respective averages. "
   ]
  },
  {
   "cell_type": "code",
   "execution_count": 18,
   "metadata": {},
   "outputs": [
    {
     "name": "stdout",
     "output_type": "stream",
     "text": [
      "The average charges for individuals under thirty are 9182.49 dollars.\n",
      "The average charges for individuals in their thirties are 11738.78 dollars.\n",
      "The average charges for individuals in their forties are 14399.2 dollars.\n",
      "The average charges for individuals over fifty are 17902.55 dollars.\n"
     ]
    }
   ],
   "source": [
    "def separate_by_age(age, charges):\n",
    "    under_thirty = []\n",
    "    thirty_to_forty = []\n",
    "    forty_to_fifty = []\n",
    "    fifty_and_over = []\n",
    "    i = 0\n",
    "    length = len(charges)\n",
    "    while i < length:\n",
    "        if age[i] < 30:\n",
    "            under_thirty.append(float(charges[i]))\n",
    "        elif age[i] < 40:\n",
    "            thirty_to_forty.append(float(charges[i]))\n",
    "        elif age[i] < 50:\n",
    "            forty_to_fifty.append(float(charges[i]))\n",
    "        else:\n",
    "            fifty_and_over.append(float(charges[i]))\n",
    "        i += 1\n",
    "    return under_thirty, thirty_to_forty, forty_to_fifty, fifty_and_over\n",
    "\n",
    "under_thirty, thirty_to_forty, forty_to_fifty, fifty_and_over = separate_by_age(age_int, charges_float)\n",
    "\n",
    "average_under_thirty = round(sum(under_thirty) / len(under_thirty), 2)\n",
    "average_thirty_to_forty = round(sum(thirty_to_forty) / len(thirty_to_forty), 2)\n",
    "average_forty_to_fifty = round(sum(forty_to_fifty) / len(forty_to_fifty), 2)\n",
    "average_fifty_and_over = round(sum(fifty_and_over) / len(fifty_and_over), 2)\n",
    "print(\"The average charges for individuals under thirty are \" + str(average_under_thirty) + \" dollars.\")\n",
    "print(\"The average charges for individuals in their thirties are \" + str(average_thirty_to_forty) + \" dollars.\")\n",
    "print(\"The average charges for individuals in their forties are \" + str(average_forty_to_fifty) + \" dollars.\")\n",
    "print(\"The average charges for individuals over fifty are \" + str(average_fifty_and_over) + \" dollars.\")"
   ]
  },
  {
   "cell_type": "markdown",
   "metadata": {},
   "source": [
    "We can see that the average charges are higher in the older age brackets. So far, it appears that the following tend to push the average charges higher: sex=male, age>30, smoker=yes, and children>0. In order to verify these indications, let's separate out all entries with high charges and analyze their commonalities. \n",
    "\n",
    "In order to define \"high charges\", let's calculate the quartiles and pick the highest quartile for our analysis.    "
   ]
  },
  {
   "cell_type": "code",
   "execution_count": 26,
   "metadata": {},
   "outputs": [
    {
     "name": "stdout",
     "output_type": "stream",
     "text": [
      "[ 1121.8739    4740.28715   9382.033    16639.912515 63770.42801 ]\n"
     ]
    }
   ],
   "source": [
    "import numpy\n",
    "\n",
    "charges_quartiles = numpy.quantile(charges_float, [0, 0.25, 0.5, 0.75, 1])\n",
    "print(charges_quartiles)\n"
   ]
  },
  {
   "cell_type": "markdown",
   "metadata": {},
   "source": [
    "The fourth quartile of the data starts at charges of 16639.91 and higher, so let's take all charges that are higher than that from the charges_float list and go from there. "
   ]
  },
  {
   "cell_type": "code",
   "execution_count": 43,
   "metadata": {},
   "outputs": [],
   "source": [
    "def create_fourth_quartile_records(charges, age, sex, bmi, children, smoker, region):\n",
    "    charges_fq = []\n",
    "    age_fq = []\n",
    "    sex_fq = []\n",
    "    bmi_fq = []\n",
    "    children_fq = []\n",
    "    smoker_fq = []\n",
    "    region_fq = []\n",
    "    i = 0\n",
    "    length = len(charges)\n",
    "    while i < length: \n",
    "        if charges[i] >= 16639:\n",
    "            charges_fq.append(charges[i])\n",
    "            age_fq.append(age[i])\n",
    "            sex_fq.append(sex[i])\n",
    "            bmi_fq.append(bmi[i])\n",
    "            children_fq.append(children[i])\n",
    "            smoker_fq.append(smoker[i])\n",
    "            region_fq.append(region[i])\n",
    "        i += 1\n",
    "    return charges_fq, age_fq, sex_fq, bmi_fq, children_fq, smoker_fq, region_fq\n",
    "\n",
    "charges_fq, age_fq, sex_fq, bmi_fq, children_fq, smoker_fq, region_fq = create_fourth_quartile_records(charges_float, age_int, sex, bmi_float, children_int, smoker, region)\n",
    "\n",
    "\n",
    "\n"
   ]
  },
  {
   "cell_type": "markdown",
   "metadata": {},
   "source": [
    "We've now created lists for each attribute for only the individuals whose charges are in the highest quartile of the dataset. Let's compare averages within this subset of high payers to the overall averages. "
   ]
  },
  {
   "cell_type": "code",
   "execution_count": 58,
   "metadata": {},
   "outputs": [
    {
     "name": "stdout",
     "output_type": "stream",
     "text": [
      "The average age within the data set is 39.21 years. The median age is 39.0.\n",
      "The average age within the fourth quartile is 40.19 years.\n",
      "\n",
      "The entire dataset contains 49.48 percent female and 50.52 percent male individuals.\n",
      "The fourth quartile contains 43.88 percent female and 56.12 percent male individuals.\n",
      "\n",
      "The average BMI within the entire dataset is 30.66.\n",
      "The average BMI in the fourth quartile is 31.31.\n",
      "\n",
      "57.1 percent of individuals in the entire dataset have children.\n",
      "61.49 percent of individuals in the fourth quartile have children.\n",
      "\n",
      "20.48 percent of individuals in the entire dataset are smokers.\n",
      "76.12 percent of individuals in the fourth quartile are smokers.\n"
     ]
    }
   ],
   "source": [
    "# Compare age\n",
    "print(age_average)\n",
    "\n",
    "age_avg_fq = round(sum(age_fq) / len(age_fq), 2)\n",
    "print(\"The average age within the fourth quartile is \" + str(age_avg_fq) + \" years.\\n\")\n",
    "\n",
    "# Compare sex\n",
    "print(\"The entire dataset contains \" + str(percent_women) + \" percent female and \" + str(percent_men) + \" percent male individuals.\")\n",
    "\n",
    "num_women_fq = counter(sex_fq, \"female\")\n",
    "num_men_fq = counter(sex_fq, \"male\")\n",
    "percent_women_fq = round(num_women_fq / len(sex_fq) * 100, 2)\n",
    "percent_men_fq = round(num_men_fq / len(sex_fq) * 100, 2)\n",
    "print(\"The fourth quartile contains \" + str(percent_women_fq) + \" percent female and \" + str(percent_men_fq) + \" percent male individuals.\\n\")\n",
    "\n",
    "# Compare bmi\n",
    "average_bmi = round(sum(bmi_float) / len(bmi_float), 2)\n",
    "print(\"The average BMI within the entire dataset is \" + str(average_bmi) + \".\")\n",
    "average_bmi_fq = round(sum(bmi_fq) / len(bmi_fq), 2)\n",
    "print(\"The average BMI in the fourth quartile is \" + str(average_bmi_fq) + \".\\n\")\n",
    "\n",
    "# Compare childless vs with children\n",
    "num_of_childless = children_int.count(0)\n",
    "num_with_children = len(children_int) - num_of_childless\n",
    "percent_with_children = round(num_with_children / len(children_int) * 100, 2)\n",
    "print(str(percent_with_children) + \" percent of individuals in the entire dataset have children.\")\n",
    "\n",
    "num_of_childless_fq = children_fq.count(0)\n",
    "num_with_children_fq = len(children_fq) - num_of_childless_fq\n",
    "percent_with_children_fq = round(num_with_children_fq / len(children_fq) * 100, 2)\n",
    "print(str(percent_with_children_fq) + \" percent of individuals in the fourth quartile have children.\\n\")\n",
    "\n",
    "# Compare smoker status\n",
    "percent_of_smokers = round(smoker.count(\"yes\") / len(smoker) * 100, 2)\n",
    "print(str(percent_of_smokers) + \" percent of individuals in the entire dataset are smokers.\")\n",
    "\n",
    "percent_of_smokers_fq = round(smoker_fq.count(\"yes\") / len(smoker_fq) * 100, 2)\n",
    "print(str(percent_of_smokers_fq) + \" percent of individuals in the fourth quartile are smokers.\")"
   ]
  },
  {
   "cell_type": "markdown",
   "metadata": {},
   "source": [
    "Seeing as most averages are consistent with the entire dataset, but the rate of smokers among the fourth quartile is 55 % higher than in the entire dataset, it becomes clear that smoking appears to contribute the most to high insurance charges. \n",
    "\n",
    "Let's now look at the opposite end, the first quartile of charges, i.e., the individuals with the lowest insurance charges, and their commonalities. "
   ]
  },
  {
   "cell_type": "code",
   "execution_count": 69,
   "metadata": {},
   "outputs": [],
   "source": [
    "def create_first_quartile_records(charges, age, sex, bmi, children, smoker, region):\n",
    "    charges_frstq = []\n",
    "    age_frstq = []\n",
    "    sex_frstq = []\n",
    "    bmi_frstq = []\n",
    "    children_frstq = []\n",
    "    smoker_frstq = []\n",
    "    region_frstq = []\n",
    "    i = 0\n",
    "    length = len(charges)\n",
    "    while i < length: \n",
    "        if charges[i] <= 4741:\n",
    "            charges_frstq.append(charges[i])\n",
    "            age_frstq.append(age[i])\n",
    "            sex_frstq.append(sex[i])\n",
    "            bmi_frstq.append(bmi[i])\n",
    "            children_frstq.append(children[i])\n",
    "            smoker_frstq.append(smoker[i])\n",
    "            region_frstq.append(region[i])\n",
    "        i += 1\n",
    "    return charges_frstq, age_frstq, sex_frstq, bmi_frstq, children_frstq, smoker_frstq, region_frstq\n",
    "\n",
    "charges_frstq, age_frstq, sex_frstq, bmi_frstq, children_frstq, smoker_frstq, region_frstq = create_first_quartile_records(charges_float, age_int, sex, bmi_float, children_int, smoker, region)"
   ]
  },
  {
   "cell_type": "code",
   "execution_count": 75,
   "metadata": {},
   "outputs": [
    {
     "name": "stdout",
     "output_type": "stream",
     "text": [
      "The average age within the data set is 39.21 years. The median age is 39.0.\n",
      "The average age within the first quartile is 23.81 years.\n",
      "\n",
      "The entire dataset contains 49.48 percent female and 50.52 percent male individuals.\n",
      "The first quartile contains 47.76 percent female and 52.24 percent male individuals.\n",
      "\n",
      "The average BMI within the entire dataset is 30.66.\n",
      "The average BMI in the first quartile is 29.91.\n",
      "\n",
      "57.1 percent of individuals in the entire dataset have children.\n",
      "39.1 percent of individuals in the first quartile have children.\n",
      "\n",
      "20.48 percent of individuals in the entire dataset are smokers.\n",
      "0.0 percent of individuals in the first quartile are smokers.\n"
     ]
    }
   ],
   "source": [
    "# Compare age\n",
    "print(age_average)\n",
    "\n",
    "age_avg_frstq = round(sum(age_frstq) / len(age_frstq), 2)\n",
    "print(\"The average age within the first quartile is \" + str(age_avg_frstq) + \" years.\\n\")\n",
    "\n",
    "# Compare sex\n",
    "print(\"The entire dataset contains \" + str(percent_women) + \" percent female and \" + str(percent_men) + \" percent male individuals.\")\n",
    "\n",
    "num_women_frstq = counter(sex_frstq, \"female\")\n",
    "num_men_frstq = counter(sex_frstq, \"male\")\n",
    "percent_women_frstq = round(num_women_frstq / len(sex_frstq) * 100, 2)\n",
    "percent_men_frstq = round(num_men_frstq / len(sex_frstq) * 100, 2)\n",
    "print(\"The first quartile contains \" + str(percent_women_frstq) + \" percent female and \" + str(percent_men_frstq) + \" percent male individuals.\\n\")\n",
    "\n",
    "# Compare bmi\n",
    "print(\"The average BMI within the entire dataset is \" + str(average_bmi) + \".\")\n",
    "average_bmi_frstq = round(sum(bmi_frstq) / len(bmi_frstq), 2)\n",
    "print(\"The average BMI in the first quartile is \" + str(average_bmi_frstq) + \".\\n\")\n",
    "\n",
    "# Compare childless vs with children\n",
    "print(str(percent_with_children) + \" percent of individuals in the entire dataset have children.\")\n",
    "\n",
    "num_of_childless_frstq = children_frstq.count(0)\n",
    "num_with_children_frstq = len(children_frstq) - num_of_childless_frstq\n",
    "percent_with_children_frstq = round(num_with_children_frstq / len(children_frstq) * 100, 2)\n",
    "print(str(percent_with_children_frstq) + \" percent of individuals in the first quartile have children.\\n\")\n",
    "\n",
    "# Compare smoker status\n",
    "print(str(percent_of_smokers) + \" percent of individuals in the entire dataset are smokers.\")\n",
    "\n",
    "percent_of_smokers_frstq = round(smoker_frstq.count(\"yes\") / len(smoker_frstq) * 100, 2)\n",
    "print(str(percent_of_smokers_frstq) + \" percent of individuals in the first quartile are smokers.\")"
   ]
  },
  {
   "cell_type": "markdown",
   "metadata": {},
   "source": [
    "Perhaps unsurprisingly, the first quartile contains absolutely no smokers, and has an average age of 23.81, which is about 16 years less than the average in the entire dataset. "
   ]
  },
  {
   "cell_type": "markdown",
   "metadata": {},
   "source": [
    "Lastly, let's look at whether or not the region individuals are located in has any correlation with their average charges. We don't know anything about living conditions or external health factors for each region, but if there are large discrepancies between the regions, it might be useful to find out if factors such as those exist. \n",
    "\n",
    "We will:\n",
    "\n",
    "1. Group the entries by region. To do this, we will define a create_subset function that takes two lists and a region marker as arguments, and we'll create separate lists for each attribute in each region. \n",
    "2. Then, we will compare the averages between these regions and draw conclusions. "
   ]
  },
  {
   "cell_type": "code",
   "execution_count": 77,
   "metadata": {},
   "outputs": [],
   "source": [
    "def create_subset(list, region_list, region_marker):\n",
    "    output_list = []\n",
    "    i = 0\n",
    "    length = len(list)\n",
    "    while i < length:\n",
    "        if region_list[i] == region_marker:\n",
    "            output_list.append(list[i])\n",
    "        i += 1\n",
    "    return output_list"
   ]
  },
  {
   "cell_type": "code",
   "execution_count": 81,
   "metadata": {},
   "outputs": [],
   "source": [
    "ne_age = create_subset(age_int, region, \"northeast\")\n",
    "ne_sex = create_subset(sex, region, \"northeast\")\n",
    "ne_bmi = create_subset(bmi_float, region, \"northeast\")\n",
    "ne_children = create_subset(children_int, region, \"northeast\")\n",
    "ne_smoker = create_subset(smoker, region, \"northeast\")\n",
    "ne_charges = create_subset(charges_float, region, \"northeast\")\n",
    "\n",
    "se_age = create_subset(age_int, region, \"southeast\")\n",
    "se_sex = create_subset(sex, region, \"southeast\")\n",
    "se_bmi = create_subset(bmi_float, region, \"southeast\")\n",
    "se_children = create_subset(children_int, region, \"southeast\")\n",
    "se_smoker = create_subset(smoker, region, \"southeast\")\n",
    "se_charges = create_subset(charges_float, region, \"southeast\")\n",
    "\n",
    "sw_age = create_subset(age_int, region, \"southwest\")\n",
    "sw_sex = create_subset(sex, region, \"southwest\")\n",
    "sw_bmi = create_subset(bmi_float, region, \"southwest\")\n",
    "sw_children = create_subset(children_int, region, \"southwest\")\n",
    "sw_smoker = create_subset(smoker, region, \"southwest\")\n",
    "sw_charges = create_subset(charges_float, region, \"southwest\")\n",
    "\n",
    "nw_age = create_subset(age_int, region, \"northwest\")\n",
    "nw_sex = create_subset(sex, region, \"southwest\")\n",
    "nw_bmi = create_subset(bmi_float, region, \"southwest\")\n",
    "nw_children = create_subset(children_int, region, \"southwest\")\n",
    "nw_smoker = create_subset(smoker, region, \"southwest\")\n",
    "nw_charges = create_subset(charges_float, region, \"southwest\")\n"
   ]
  },
  {
   "cell_type": "code",
   "execution_count": 91,
   "metadata": {},
   "outputs": [
    {
     "name": "stdout",
     "output_type": "stream",
     "text": [
      "The age average in the northeast is 39.27.\n",
      "The age average in the southeast is 38.94.\n",
      "The age average in the southwest is 39.46.\n",
      "The age average in the northwest is 39.2.\n",
      "\n",
      "\n",
      "49.69 percent of individuals in the northeast are female.\n",
      "50.31 percent of individuals in the northeast are male.\n",
      "\n",
      "48.08 percent of individuals in the southeast are female.\n",
      "51.92 percent of individuals in the southeast are male.\n",
      "\n",
      "49.85 percent of individuals in the southwest are female.\n",
      "50.15 percent of individuals in the southwest are male.\n",
      "\n",
      "49.85 percent of individuals in the northwest are female.\n",
      "50.15 percent of individuals in the northwest are male.\n",
      "\n",
      "\n",
      "The average charges in the northeast are 13406.38 dollars.\n",
      "The average charges in the southeast are 14735.41 dollars.\n",
      "The average charges in the southwest are 12346.94 dollars.\n",
      "The average charges in the northwest are 12346.94 dollars.\n"
     ]
    }
   ],
   "source": [
    "# Age average by region\n",
    "# Region: northeast\n",
    "ne_age_avg = round(sum(ne_age) / len(ne_age), 2)\n",
    "print(\"The age average in the northeast is \" + str(ne_age_avg) + \".\")\n",
    "\n",
    "# Region: southeast\n",
    "se_age_avg = round(sum(se_age) / len(se_age), 2)\n",
    "print(\"The age average in the southeast is \" + str(se_age_avg) + \".\")\n",
    "\n",
    "# Region: southwest\n",
    "sw_age_avg = round(sum(sw_age) / len(sw_age), 2)\n",
    "print(\"The age average in the southwest is \" + str(sw_age_avg) + \".\")\n",
    "\n",
    "# Region: northwest\n",
    "nw_age_avg = round(sum(nw_age) / len(nw_age), 2)\n",
    "print(\"The age average in the northwest is \" + str(nw_age_avg) + \".\\n\\n\")\n",
    "\n",
    "# Sex distribution by region\n",
    "# ne\n",
    "ne_percent_of_women = round(ne_sex.count(\"female\") / len(ne_sex) * 100, 2)\n",
    "print(str(ne_percent_of_women) + \" percent of individuals in the northeast are female.\")\n",
    "ne_percent_of_men = round(ne_sex.count(\"male\") / len(ne_sex) * 100, 2)\n",
    "print(str(ne_percent_of_men) + \" percent of individuals in the northeast are male.\\n\")\n",
    "\n",
    "# se\n",
    "se_percent_of_women = round(se_sex.count(\"female\") / len(se_sex) * 100, 2)\n",
    "print(str(se_percent_of_women) + \" percent of individuals in the southeast are female.\")\n",
    "se_percent_of_men = round(se_sex.count(\"male\") / len(se_sex) * 100, 2)\n",
    "print(str(se_percent_of_men) + \" percent of individuals in the southeast are male.\\n\")\n",
    "\n",
    "# sw\n",
    "sw_percent_of_women = round(sw_sex.count(\"female\") / len(sw_sex) * 100, 2)\n",
    "print(str(sw_percent_of_women) + \" percent of individuals in the southwest are female.\")\n",
    "sw_percent_of_men = round(sw_sex.count(\"male\") / len(sw_sex) * 100, 2)\n",
    "print(str(sw_percent_of_men) + \" percent of individuals in the southwest are male.\\n\")\n",
    "\n",
    "# nw\n",
    "nw_percent_of_women = round(nw_sex.count(\"female\") / len(nw_sex) * 100, 2)\n",
    "print(str(nw_percent_of_women) + \" percent of individuals in the northwest are female.\")\n",
    "nw_percent_of_men = round(nw_sex.count(\"male\") / len(nw_sex) * 100, 2)\n",
    "print(str(nw_percent_of_men) + \" percent of individuals in the northwest are male.\\n\\n\")\n",
    "\n",
    "# Average charges per region\n",
    "# ne\n",
    "ne_avg_charges = round(sum(ne_charges) / len(ne_charges), 2)\n",
    "print(\"The average charges in the northeast are \" + str(ne_avg_charges) + \" dollars.\")\n",
    "\n",
    "# se\n",
    "se_avg_charges = round(sum(se_charges) / len(se_charges), 2)\n",
    "print(\"The average charges in the southeast are \" + str(se_avg_charges) + \" dollars.\")\n",
    "\n",
    "# sw\n",
    "sw_avg_charges = round(sum(sw_charges) / len(sw_charges), 2)\n",
    "print(\"The average charges in the southwest are \" + str(sw_avg_charges) + \" dollars.\")\n",
    "\n",
    "# nw\n",
    "nw_avg_charges = round(sum(nw_charges) / len(nw_charges), 2)\n",
    "print(\"The average charges in the northwest are \" + str(nw_avg_charges) + \" dollars.\")"
   ]
  },
  {
   "cell_type": "code",
   "execution_count": null,
   "metadata": {},
   "outputs": [],
   "source": []
  }
 ],
 "metadata": {
  "kernelspec": {
   "display_name": "Python 3 (ipykernel)",
   "language": "python",
   "name": "python3"
  },
  "language_info": {
   "codemirror_mode": {
    "name": "ipython",
    "version": 3
   },
   "file_extension": ".py",
   "mimetype": "text/x-python",
   "name": "python",
   "nbconvert_exporter": "python",
   "pygments_lexer": "ipython3",
   "version": "3.12.8"
  }
 },
 "nbformat": 4,
 "nbformat_minor": 4
}
